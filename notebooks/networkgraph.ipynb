{
 "cells": [
  {
   "cell_type": "code",
   "execution_count": 3,
   "metadata": {},
   "outputs": [
    {
     "name": "stdout",
     "output_type": "stream",
     "text": [
      "{'server 1': ['server 1'], 'server 2': ['server 1', 'server 3', 'server 2'], 'server 3': ['server 1', 'server 3'], 'server 5': ['server 1', 'server 5']} \n",
      " ['server 1', 'server 3', 'server 2'] \n",
      " 4\n"
     ]
    },
    {
     "ename": "AttributeError",
     "evalue": "'GraphVisualization' object has no attribute 'display'",
     "output_type": "error",
     "traceback": [
      "\u001b[0;31m---------------------------------------------------------------------------\u001b[0m",
      "\u001b[0;31mAttributeError\u001b[0m                            Traceback (most recent call last)",
      "Cell \u001b[0;32mIn[3], line 61\u001b[0m\n\u001b[1;32m     57\u001b[0m p1_6l \u001b[39m=\u001b[39m nx\u001b[39m.\u001b[39mshortest_path_length(V\u001b[39m.\u001b[39mG, source\u001b[39m=\u001b[39m\u001b[39m'\u001b[39m\u001b[39mserver 1\u001b[39m\u001b[39m'\u001b[39m, target\u001b[39m=\u001b[39m\u001b[39m'\u001b[39m\u001b[39mserver 2\u001b[39m\u001b[39m'\u001b[39m, weight\u001b[39m=\u001b[39m\u001b[39m\"\u001b[39m\u001b[39mweight\u001b[39m\u001b[39m\"\u001b[39m)\n\u001b[1;32m     59\u001b[0m \u001b[39mprint\u001b[39m(p1, \u001b[39m'\u001b[39m\u001b[39m\\n\u001b[39;00m\u001b[39m'\u001b[39m, p1_6, \u001b[39m'\u001b[39m\u001b[39m\\n\u001b[39;00m\u001b[39m'\u001b[39m, p1_6l)\n\u001b[0;32m---> 61\u001b[0m V\u001b[39m.\u001b[39;49mdisplay() \n",
      "\u001b[0;31mAttributeError\u001b[0m: 'GraphVisualization' object has no attribute 'display'"
     ]
    }
   ],
   "source": [
    "# !/usr/bin/python3\n",
    "\n",
    "import networkx as nx\n",
    "import matplotlib.pyplot as plt\n",
    "   \n",
    "  \n",
    "# Defining a Class\n",
    "class GraphVisualization:\n",
    "   \n",
    "    def __init__(self):\n",
    "          \n",
    "        # visual is a list which stores all \n",
    "        # the set of edges that constitutes a\n",
    "        # graph\n",
    "        self.visual = []\n",
    "\n",
    "        # G is the actual graph itself\n",
    "        self.G = nx.Graph()\n",
    "\n",
    "    # addEdge function inputs the vertices of an\n",
    "    # edge and the weight and appends it to the visual list\n",
    "    def addEdge(self, a, b, w):\n",
    "        temp = (a, b, {\"weight\": w})\n",
    "        self.visual.append(temp)\n",
    "          \n",
    "    # In the connect function, G is an object of\n",
    "    # class Graph given by networkx G.add_edges_from(visual).\n",
    "    # It creates a graph with the given list of nodes\n",
    "    def connect(self):\n",
    "        self.G.add_edges_from(self.visual)\n",
    "\n",
    "\n",
    "    # In the display function, edge labels sets the labels equal to \n",
    "    # nx.draw_networkx(G) - plots the graph\n",
    "    # plt.show() - displays the graph\n",
    "def display(self):\n",
    "    pos = nx.spring_layout(self.G)\n",
    "    edge_labels = dict([((n1, n2), d['weight'])\n",
    "                        for n1, n2, d in self.G.edges(data=True)])\n",
    "    nx.draw(self.G, pos, with_labels=True)\n",
    "    nx.draw_networkx_edge_labels(self.G, pos, edge_labels=edge_labels,\n",
    "                                 font_color='red', font_weight='bold')\n",
    "    plt.show()\n",
    "\n",
    "  \n",
    "# Driver code\n",
    "V = GraphVisualization()\n",
    "V.addEdge('server 1', 'server 2', 5)\n",
    "V.addEdge('server 2', 'server 3', 3)\n",
    "V.addEdge('server 3', 'server 1', 1)\n",
    "V.addEdge('server 1', 'server 5', 10)\n",
    "\n",
    "V.connect()\n",
    "\n",
    "p1 = nx.shortest_path(V.G, source='server 1', weight=\"weight\")\n",
    "p1_6 = nx.shortest_path(V.G, source='server 1', target='server 2', weight=\"weight\")\n",
    "p1_6l = nx.shortest_path_length(V.G, source='server 1', target='server 2', weight=\"weight\")\n",
    "\n",
    "print(p1, '\\n', p1_6, '\\n', p1_6l)\n",
    "\n",
    "V.display() \n"
   ]
  }
 ],
 "metadata": {
  "kernelspec": {
   "display_name": "Python 3",
   "language": "python",
   "name": "python3"
  },
  "language_info": {
   "codemirror_mode": {
    "name": "ipython",
    "version": 3
   },
   "file_extension": ".py",
   "mimetype": "text/x-python",
   "name": "python",
   "nbconvert_exporter": "python",
   "pygments_lexer": "ipython3",
   "version": "3.10.4"
  },
  "orig_nbformat": 4,
  "vscode": {
   "interpreter": {
    "hash": "3ad933181bd8a04b432d3370b9dc3b0662ad032c4dfaa4e4f1596c548f763858"
   }
  }
 },
 "nbformat": 4,
 "nbformat_minor": 2
}
